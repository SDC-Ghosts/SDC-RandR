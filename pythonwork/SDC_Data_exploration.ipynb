{
 "cells": [
  {
   "cell_type": "code",
   "execution_count": 2,
   "metadata": {},
   "outputs": [],
   "source": [
    "import numpy as np\n",
    "import pandas as pd"
   ]
  },
  {
   "cell_type": "code",
   "execution_count": 6,
   "metadata": {},
   "outputs": [
    {
     "name": "stdout",
     "output_type": "stream",
     "text": [
      "/home/nyall/Desktop/HackReactor/SDC-RandR/pythonwork\r\n"
     ]
    }
   ],
   "source": [
    "! pwd"
   ]
  },
  {
   "cell_type": "code",
   "execution_count": 3,
   "metadata": {},
   "outputs": [],
   "source": [
    "reviews_data = pd.read_csv('data/reviews.csv')"
   ]
  },
  {
   "cell_type": "code",
   "execution_count": 4,
   "metadata": {},
   "outputs": [],
   "source": [
    "characteristics_data = pd.read_csv('data/characteristics.csv')"
   ]
  },
  {
   "cell_type": "code",
   "execution_count": 7,
   "metadata": {},
   "outputs": [],
   "source": [
    "characteristic_reviews_data = pd.read_csv('data/characteristic_reviews.csv')"
   ]
  },
  {
   "cell_type": "code",
   "execution_count": 8,
   "metadata": {},
   "outputs": [],
   "source": [
    "reviews_photos_data = pd.read_csv('data/reviews_photos.csv')"
   ]
  },
  {
   "cell_type": "code",
   "execution_count": 14,
   "metadata": {},
   "outputs": [
    {
     "data": {
      "text/html": [
       "<div>\n",
       "<style scoped>\n",
       "    .dataframe tbody tr th:only-of-type {\n",
       "        vertical-align: middle;\n",
       "    }\n",
       "\n",
       "    .dataframe tbody tr th {\n",
       "        vertical-align: top;\n",
       "    }\n",
       "\n",
       "    .dataframe thead th {\n",
       "        text-align: right;\n",
       "    }\n",
       "</style>\n",
       "<table border=\"1\" class=\"dataframe\">\n",
       "  <thead>\n",
       "    <tr style=\"text-align: right;\">\n",
       "      <th></th>\n",
       "      <th>id</th>\n",
       "      <th>product_id</th>\n",
       "      <th>rating</th>\n",
       "      <th>date</th>\n",
       "      <th>summary</th>\n",
       "      <th>body</th>\n",
       "      <th>recommend</th>\n",
       "      <th>reported</th>\n",
       "      <th>reviewer_name</th>\n",
       "      <th>reviewer_email</th>\n",
       "      <th>response</th>\n",
       "      <th>helpfulness</th>\n",
       "    </tr>\n",
       "  </thead>\n",
       "  <tbody>\n",
       "    <tr>\n",
       "      <th>0</th>\n",
       "      <td>1</td>\n",
       "      <td>1</td>\n",
       "      <td>5</td>\n",
       "      <td>1596080481467</td>\n",
       "      <td>This product was great!</td>\n",
       "      <td>I really did or did not like this product base...</td>\n",
       "      <td>True</td>\n",
       "      <td>False</td>\n",
       "      <td>funtime</td>\n",
       "      <td>first.last@gmail.com</td>\n",
       "      <td>NaN</td>\n",
       "      <td>8</td>\n",
       "    </tr>\n",
       "    <tr>\n",
       "      <th>1</th>\n",
       "      <td>2</td>\n",
       "      <td>1</td>\n",
       "      <td>4</td>\n",
       "      <td>1610178433963</td>\n",
       "      <td>This product was ok!</td>\n",
       "      <td>I really did not like this product solely beca...</td>\n",
       "      <td>False</td>\n",
       "      <td>False</td>\n",
       "      <td>mymainstreammother</td>\n",
       "      <td>first.last@gmail.com</td>\n",
       "      <td>NaN</td>\n",
       "      <td>2</td>\n",
       "    </tr>\n",
       "    <tr>\n",
       "      <th>2</th>\n",
       "      <td>3</td>\n",
       "      <td>2</td>\n",
       "      <td>4</td>\n",
       "      <td>1609325851021</td>\n",
       "      <td>I am liking these glasses</td>\n",
       "      <td>They are very dark.  But that's good because I...</td>\n",
       "      <td>True</td>\n",
       "      <td>False</td>\n",
       "      <td>bigbrotherbenjamin</td>\n",
       "      <td>first.last@gmail.com</td>\n",
       "      <td>Glad you're enjoying the product!</td>\n",
       "      <td>5</td>\n",
       "    </tr>\n",
       "    <tr>\n",
       "      <th>3</th>\n",
       "      <td>4</td>\n",
       "      <td>2</td>\n",
       "      <td>4</td>\n",
       "      <td>1593628485253</td>\n",
       "      <td>They look good on me</td>\n",
       "      <td>I so stylish and just my aesthetic.</td>\n",
       "      <td>True</td>\n",
       "      <td>False</td>\n",
       "      <td>fashionperson</td>\n",
       "      <td>first.last@gmail.com</td>\n",
       "      <td>NaN</td>\n",
       "      <td>1</td>\n",
       "    </tr>\n",
       "    <tr>\n",
       "      <th>4</th>\n",
       "      <td>5</td>\n",
       "      <td>2</td>\n",
       "      <td>3</td>\n",
       "      <td>1615987717620</td>\n",
       "      <td>I'm enjoying wearing these shades</td>\n",
       "      <td>Comfortable and practical.</td>\n",
       "      <td>True</td>\n",
       "      <td>False</td>\n",
       "      <td>shortandsweeet</td>\n",
       "      <td>first.last@gmail.com</td>\n",
       "      <td>NaN</td>\n",
       "      <td>5</td>\n",
       "    </tr>\n",
       "  </tbody>\n",
       "</table>\n",
       "</div>"
      ],
      "text/plain": [
       "   id  product_id  rating           date                            summary  \\\n",
       "0   1           1       5  1596080481467            This product was great!   \n",
       "1   2           1       4  1610178433963               This product was ok!   \n",
       "2   3           2       4  1609325851021          I am liking these glasses   \n",
       "3   4           2       4  1593628485253               They look good on me   \n",
       "4   5           2       3  1615987717620  I'm enjoying wearing these shades   \n",
       "\n",
       "                                                body  recommend  reported  \\\n",
       "0  I really did or did not like this product base...       True     False   \n",
       "1  I really did not like this product solely beca...      False     False   \n",
       "2  They are very dark.  But that's good because I...       True     False   \n",
       "3                I so stylish and just my aesthetic.       True     False   \n",
       "4                         Comfortable and practical.       True     False   \n",
       "\n",
       "        reviewer_name        reviewer_email  \\\n",
       "0             funtime  first.last@gmail.com   \n",
       "1  mymainstreammother  first.last@gmail.com   \n",
       "2  bigbrotherbenjamin  first.last@gmail.com   \n",
       "3       fashionperson  first.last@gmail.com   \n",
       "4      shortandsweeet  first.last@gmail.com   \n",
       "\n",
       "                            response  helpfulness  \n",
       "0                                NaN            8  \n",
       "1                                NaN            2  \n",
       "2  Glad you're enjoying the product!            5  \n",
       "3                                NaN            1  \n",
       "4                                NaN            5  "
      ]
     },
     "execution_count": 14,
     "metadata": {},
     "output_type": "execute_result"
    }
   ],
   "source": [
    "reviews_data.head()"
   ]
  },
  {
   "cell_type": "code",
   "execution_count": 11,
   "metadata": {},
   "outputs": [
    {
     "data": {
      "text/html": [
       "<div>\n",
       "<style scoped>\n",
       "    .dataframe tbody tr th:only-of-type {\n",
       "        vertical-align: middle;\n",
       "    }\n",
       "\n",
       "    .dataframe tbody tr th {\n",
       "        vertical-align: top;\n",
       "    }\n",
       "\n",
       "    .dataframe thead th {\n",
       "        text-align: right;\n",
       "    }\n",
       "</style>\n",
       "<table border=\"1\" class=\"dataframe\">\n",
       "  <thead>\n",
       "    <tr style=\"text-align: right;\">\n",
       "      <th></th>\n",
       "      <th>id</th>\n",
       "      <th>product_id</th>\n",
       "      <th>name</th>\n",
       "    </tr>\n",
       "  </thead>\n",
       "  <tbody>\n",
       "    <tr>\n",
       "      <th>0</th>\n",
       "      <td>1</td>\n",
       "      <td>1</td>\n",
       "      <td>Fit</td>\n",
       "    </tr>\n",
       "    <tr>\n",
       "      <th>1</th>\n",
       "      <td>2</td>\n",
       "      <td>1</td>\n",
       "      <td>Length</td>\n",
       "    </tr>\n",
       "    <tr>\n",
       "      <th>2</th>\n",
       "      <td>3</td>\n",
       "      <td>1</td>\n",
       "      <td>Comfort</td>\n",
       "    </tr>\n",
       "    <tr>\n",
       "      <th>3</th>\n",
       "      <td>4</td>\n",
       "      <td>1</td>\n",
       "      <td>Quality</td>\n",
       "    </tr>\n",
       "    <tr>\n",
       "      <th>4</th>\n",
       "      <td>5</td>\n",
       "      <td>2</td>\n",
       "      <td>Quality</td>\n",
       "    </tr>\n",
       "  </tbody>\n",
       "</table>\n",
       "</div>"
      ],
      "text/plain": [
       "   id  product_id     name\n",
       "0   1           1      Fit\n",
       "1   2           1   Length\n",
       "2   3           1  Comfort\n",
       "3   4           1  Quality\n",
       "4   5           2  Quality"
      ]
     },
     "execution_count": 11,
     "metadata": {},
     "output_type": "execute_result"
    }
   ],
   "source": [
    "characteristics_data.head()"
   ]
  },
  {
   "cell_type": "code",
   "execution_count": 13,
   "metadata": {},
   "outputs": [
    {
     "data": {
      "text/html": [
       "<div>\n",
       "<style scoped>\n",
       "    .dataframe tbody tr th:only-of-type {\n",
       "        vertical-align: middle;\n",
       "    }\n",
       "\n",
       "    .dataframe tbody tr th {\n",
       "        vertical-align: top;\n",
       "    }\n",
       "\n",
       "    .dataframe thead th {\n",
       "        text-align: right;\n",
       "    }\n",
       "</style>\n",
       "<table border=\"1\" class=\"dataframe\">\n",
       "  <thead>\n",
       "    <tr style=\"text-align: right;\">\n",
       "      <th></th>\n",
       "      <th>id</th>\n",
       "      <th>characteristic_id</th>\n",
       "      <th>review_id</th>\n",
       "      <th>value</th>\n",
       "    </tr>\n",
       "  </thead>\n",
       "  <tbody>\n",
       "    <tr>\n",
       "      <th>0</th>\n",
       "      <td>1</td>\n",
       "      <td>1</td>\n",
       "      <td>1</td>\n",
       "      <td>4</td>\n",
       "    </tr>\n",
       "    <tr>\n",
       "      <th>1</th>\n",
       "      <td>2</td>\n",
       "      <td>2</td>\n",
       "      <td>1</td>\n",
       "      <td>3</td>\n",
       "    </tr>\n",
       "    <tr>\n",
       "      <th>2</th>\n",
       "      <td>3</td>\n",
       "      <td>3</td>\n",
       "      <td>1</td>\n",
       "      <td>5</td>\n",
       "    </tr>\n",
       "    <tr>\n",
       "      <th>3</th>\n",
       "      <td>4</td>\n",
       "      <td>4</td>\n",
       "      <td>1</td>\n",
       "      <td>4</td>\n",
       "    </tr>\n",
       "    <tr>\n",
       "      <th>4</th>\n",
       "      <td>5</td>\n",
       "      <td>1</td>\n",
       "      <td>2</td>\n",
       "      <td>4</td>\n",
       "    </tr>\n",
       "  </tbody>\n",
       "</table>\n",
       "</div>"
      ],
      "text/plain": [
       "   id  characteristic_id  review_id  value\n",
       "0   1                  1          1      4\n",
       "1   2                  2          1      3\n",
       "2   3                  3          1      5\n",
       "3   4                  4          1      4\n",
       "4   5                  1          2      4"
      ]
     },
     "execution_count": 13,
     "metadata": {},
     "output_type": "execute_result"
    }
   ],
   "source": [
    "characteristic_reviews_data.head()"
   ]
  },
  {
   "cell_type": "code",
   "execution_count": 34,
   "metadata": {},
   "outputs": [
    {
     "data": {
      "text/html": [
       "<div>\n",
       "<style scoped>\n",
       "    .dataframe tbody tr th:only-of-type {\n",
       "        vertical-align: middle;\n",
       "    }\n",
       "\n",
       "    .dataframe tbody tr th {\n",
       "        vertical-align: top;\n",
       "    }\n",
       "\n",
       "    .dataframe thead th {\n",
       "        text-align: right;\n",
       "    }\n",
       "</style>\n",
       "<table border=\"1\" class=\"dataframe\">\n",
       "  <thead>\n",
       "    <tr style=\"text-align: right;\">\n",
       "      <th></th>\n",
       "      <th>id</th>\n",
       "      <th>review_id</th>\n",
       "      <th>url</th>\n",
       "    </tr>\n",
       "  </thead>\n",
       "  <tbody>\n",
       "    <tr>\n",
       "      <th>2742535</th>\n",
       "      <td>2742536</td>\n",
       "      <td>5774942</td>\n",
       "      <td>https://images.unsplash.com/photo-151353192634...</td>\n",
       "    </tr>\n",
       "    <tr>\n",
       "      <th>2742536</th>\n",
       "      <td>2742537</td>\n",
       "      <td>5774945</td>\n",
       "      <td>https://images.unsplash.com/photo-150108843004...</td>\n",
       "    </tr>\n",
       "    <tr>\n",
       "      <th>2742537</th>\n",
       "      <td>2742538</td>\n",
       "      <td>5774947</td>\n",
       "      <td>https://images.unsplash.com/photo-151149900818...</td>\n",
       "    </tr>\n",
       "    <tr>\n",
       "      <th>2742538</th>\n",
       "      <td>2742539</td>\n",
       "      <td>5774950</td>\n",
       "      <td>https://images.unsplash.com/photo-1544131750-2...</td>\n",
       "    </tr>\n",
       "    <tr>\n",
       "      <th>2742539</th>\n",
       "      <td>2742540</td>\n",
       "      <td>5774951</td>\n",
       "      <td>https://images.unsplash.com/photo-1553981834-a...</td>\n",
       "    </tr>\n",
       "  </tbody>\n",
       "</table>\n",
       "</div>"
      ],
      "text/plain": [
       "              id  review_id                                                url\n",
       "2742535  2742536    5774942  https://images.unsplash.com/photo-151353192634...\n",
       "2742536  2742537    5774945  https://images.unsplash.com/photo-150108843004...\n",
       "2742537  2742538    5774947  https://images.unsplash.com/photo-151149900818...\n",
       "2742538  2742539    5774950  https://images.unsplash.com/photo-1544131750-2...\n",
       "2742539  2742540    5774951  https://images.unsplash.com/photo-1553981834-a..."
      ]
     },
     "execution_count": 34,
     "metadata": {},
     "output_type": "execute_result"
    }
   ],
   "source": [
    "reviews_photos_data.head()\n",
    "reviews_photos_data.tail()"
   ]
  },
  {
   "cell_type": "code",
   "execution_count": 18,
   "metadata": {},
   "outputs": [
    {
     "name": "stdout",
     "output_type": "stream",
     "text": [
      "<class 'pandas.core.frame.DataFrame'>\n",
      "RangeIndex: 5774952 entries, 0 to 5774951\n",
      "Data columns (total 12 columns):\n",
      " #   Column          Dtype \n",
      "---  ------          ----- \n",
      " 0   id              int64 \n",
      " 1   product_id      int64 \n",
      " 2   rating          int64 \n",
      " 3   date            int64 \n",
      " 4   summary         object\n",
      " 5   body            object\n",
      " 6   recommend       bool  \n",
      " 7   reported        bool  \n",
      " 8   reviewer_name   object\n",
      " 9   reviewer_email  object\n",
      " 10  response        object\n",
      " 11  helpfulness     int64 \n",
      "dtypes: bool(2), int64(5), object(5)\n",
      "memory usage: 451.6+ MB\n"
     ]
    }
   ],
   "source": [
    "reviews_data.info()"
   ]
  },
  {
   "cell_type": "code",
   "execution_count": 29,
   "metadata": {},
   "outputs": [
    {
     "name": "stdout",
     "output_type": "stream",
     "text": [
      "<class 'pandas.core.frame.DataFrame'>\n",
      "RangeIndex: 3347679 entries, 0 to 3347678\n",
      "Data columns (total 3 columns):\n",
      " #   Column      Dtype \n",
      "---  ------      ----- \n",
      " 0   id          int64 \n",
      " 1   product_id  int64 \n",
      " 2   name        object\n",
      "dtypes: int64(2), object(1)\n",
      "memory usage: 76.6+ MB\n"
     ]
    }
   ],
   "source": [
    "characteristics_data.info()"
   ]
  },
  {
   "cell_type": "code",
   "execution_count": 31,
   "metadata": {},
   "outputs": [
    {
     "name": "stdout",
     "output_type": "stream",
     "text": [
      "<class 'pandas.core.frame.DataFrame'>\n",
      "RangeIndex: 19327575 entries, 0 to 19327574\n",
      "Data columns (total 4 columns):\n",
      " #   Column             Dtype\n",
      "---  ------             -----\n",
      " 0   id                 int64\n",
      " 1   characteristic_id  int64\n",
      " 2   review_id          int64\n",
      " 3   value              int64\n",
      "dtypes: int64(4)\n",
      "memory usage: 589.8 MB\n"
     ]
    }
   ],
   "source": [
    "characteristic_reviews_data.info()"
   ]
  },
  {
   "cell_type": "code",
   "execution_count": 33,
   "metadata": {},
   "outputs": [
    {
     "name": "stdout",
     "output_type": "stream",
     "text": [
      "<class 'pandas.core.frame.DataFrame'>\n",
      "RangeIndex: 2742540 entries, 0 to 2742539\n",
      "Data columns (total 3 columns):\n",
      " #   Column     Dtype \n",
      "---  ------     ----- \n",
      " 0   id         int64 \n",
      " 1   review_id  int64 \n",
      " 2   url        object\n",
      "dtypes: int64(2), object(1)\n",
      "memory usage: 62.8+ MB\n"
     ]
    }
   ],
   "source": [
    "reviews_photos_data.info()"
   ]
  },
  {
   "cell_type": "code",
   "execution_count": 24,
   "metadata": {},
   "outputs": [
    {
     "data": {
      "text/plain": [
       "id                False\n",
       "product_id        False\n",
       "rating            False\n",
       "date              False\n",
       "summary           False\n",
       "body              False\n",
       "recommend         False\n",
       "reported          False\n",
       "reviewer_name     False\n",
       "reviewer_email    False\n",
       "response           True\n",
       "helpfulness       False\n",
       "dtype: bool"
      ]
     },
     "execution_count": 24,
     "metadata": {},
     "output_type": "execute_result"
    }
   ],
   "source": [
    "reviews_data.isnull().any()"
   ]
  },
  {
   "cell_type": "code",
   "execution_count": 25,
   "metadata": {},
   "outputs": [
    {
     "data": {
      "text/plain": [
       "id            False\n",
       "product_id    False\n",
       "name          False\n",
       "dtype: bool"
      ]
     },
     "execution_count": 25,
     "metadata": {},
     "output_type": "execute_result"
    }
   ],
   "source": [
    "characteristics_data.isnull().any()"
   ]
  },
  {
   "cell_type": "code",
   "execution_count": 27,
   "metadata": {},
   "outputs": [
    {
     "data": {
      "text/plain": [
       "id                   False\n",
       "characteristic_id    False\n",
       "review_id            False\n",
       "value                False\n",
       "dtype: bool"
      ]
     },
     "execution_count": 27,
     "metadata": {},
     "output_type": "execute_result"
    }
   ],
   "source": [
    "characteristic_reviews_data.isnull().any()"
   ]
  },
  {
   "cell_type": "code",
   "execution_count": 28,
   "metadata": {},
   "outputs": [
    {
     "data": {
      "text/plain": [
       "id           False\n",
       "review_id    False\n",
       "url          False\n",
       "dtype: bool"
      ]
     },
     "execution_count": 28,
     "metadata": {},
     "output_type": "execute_result"
    }
   ],
   "source": [
    "reviews_photos_data.isnull().any()"
   ]
  }
 ],
 "metadata": {
  "kernelspec": {
   "display_name": "Python 3 (ipykernel)",
   "language": "python",
   "name": "python3"
  },
  "language_info": {
   "codemirror_mode": {
    "name": "ipython",
    "version": 3
   },
   "file_extension": ".py",
   "mimetype": "text/x-python",
   "name": "python",
   "nbconvert_exporter": "python",
   "pygments_lexer": "ipython3",
   "version": "3.8.10"
  }
 },
 "nbformat": 4,
 "nbformat_minor": 4
}
